{
 "cells": [
  {
   "cell_type": "code",
   "execution_count": 1,
   "id": "085a507b",
   "metadata": {},
   "outputs": [
    {
     "name": "stdout",
     "output_type": "stream",
     "text": [
      "Mean: 166.7\n"
     ]
    }
   ],
   "source": [
    "import numpy as np \n",
    "\n",
    "#dataset\n",
    "heights = np.array([160, 155, 172, 165, 180, 158, 175, 163, 171, 168])\n",
    "\n",
    "#mean\n",
    "mean = np.mean(heights)\n",
    "print(\"Mean:\", mean)"
   ]
  },
  {
   "cell_type": "code",
   "execution_count": 2,
   "id": "e9fdc647",
   "metadata": {},
   "outputs": [
    {
     "name": "stdout",
     "output_type": "stream",
     "text": [
      "Median: 166.5\n"
     ]
    }
   ],
   "source": [
    "#median\n",
    "median = np.median(heights)\n",
    "print(\"Median:\",median)"
   ]
  },
  {
   "cell_type": "code",
   "execution_count": 3,
   "id": "b6e6d217",
   "metadata": {},
   "outputs": [
    {
     "name": "stdout",
     "output_type": "stream",
     "text": [
      "Standard deviation: 7.5372408744845085\n"
     ]
    }
   ],
   "source": [
    "#Standard deviation\n",
    "std_dev = np.std(heights)\n",
    "print(\"Standard deviation:\", std_dev)"
   ]
  },
  {
   "cell_type": "code",
   "execution_count": 4,
   "id": "e129ded3",
   "metadata": {},
   "outputs": [
    {
     "name": "stdout",
     "output_type": "stream",
     "text": [
      "Normalized heights: [-0.88891945 -1.55229217  0.70317509 -0.22554673  1.76457144 -1.15426854\n",
      "  1.10119872 -0.49089581  0.57050054  0.17247691]\n"
     ]
    }
   ],
   "source": [
    "#New array(normalized heights)\n",
    "normalized_heights = (heights - mean) / std_dev\n",
    "print(\"Normalized heights:\", normalized_heights)"
   ]
  },
  {
   "cell_type": "code",
   "execution_count": 5,
   "id": "a69a9980",
   "metadata": {},
   "outputs": [
    {
     "name": "stdout",
     "output_type": "stream",
     "text": [
      "Tallest student's index is: 4\n"
     ]
    }
   ],
   "source": [
    "#Tallest student\n",
    "Tallest_student= np.argmax(heights)\n",
    "print(\"Tallest student's index is:\",Tallest_student)"
   ]
  },
  {
   "cell_type": "code",
   "execution_count": 6,
   "id": "4e89b21c",
   "metadata": {},
   "outputs": [
    {
     "name": "stdout",
     "output_type": "stream",
     "text": [
      "Shortest student's index is: 1\n"
     ]
    }
   ],
   "source": [
    "#Shortest student\n",
    "Shortest_student = np.argmin(heights)\n",
    "print(\"Shortest student's index is:\", Shortest_student)"
   ]
  },
  {
   "cell_type": "code",
   "execution_count": 7,
   "id": "ec73605d",
   "metadata": {},
   "outputs": [
    {
     "name": "stdout",
     "output_type": "stream",
     "text": [
      "Height difference between the tallest and shortest student is: 25 cm\n"
     ]
    }
   ],
   "source": [
    "#Height difference\n",
    "Height_diff = heights[Tallest_student] - heights[Shortest_student]\n",
    "print(f\"Height difference between the tallest and shortest student is: {Height_diff} cm\")"
   ]
  },
  {
   "cell_type": "code",
   "execution_count": 8,
   "id": "99e31e5a",
   "metadata": {},
   "outputs": [
    {
     "name": "stdout",
     "output_type": "stream",
     "text": [
      "Random height sample without replacement: [180 165 171 160 168]\n"
     ]
    }
   ],
   "source": [
    "# Random sample 5 elements without replacement\n",
    "sample_no_replacement = np.random.choice(heights, 5, replace=False)\n",
    "print(\"Random height sample without replacement:\", sample_no_replacement)"
   ]
  },
  {
   "cell_type": "code",
   "execution_count": null,
   "id": "5332ac43",
   "metadata": {},
   "outputs": [],
   "source": []
  }
 ],
 "metadata": {
  "kernelspec": {
   "display_name": "Python 3 (ipykernel)",
   "language": "python",
   "name": "python3"
  },
  "language_info": {
   "codemirror_mode": {
    "name": "ipython",
    "version": 3
   },
   "file_extension": ".py",
   "mimetype": "text/x-python",
   "name": "python",
   "nbconvert_exporter": "python",
   "pygments_lexer": "ipython3",
   "version": "3.10.9"
  }
 },
 "nbformat": 4,
 "nbformat_minor": 5
}
